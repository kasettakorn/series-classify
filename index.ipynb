{
 "metadata": {
  "language_info": {
   "codemirror_mode": {
    "name": "ipython",
    "version": 3
   },
   "file_extension": ".py",
   "mimetype": "text/x-python",
   "name": "python",
   "nbconvert_exporter": "python",
   "pygments_lexer": "ipython3",
   "version": "3.7.6-final"
  },
  "orig_nbformat": 2,
  "kernelspec": {
   "name": "python_defaultSpec_1600601331936",
   "display_name": "Python 3.7.6 64-bit ('base': conda)"
  }
 },
 "nbformat": 4,
 "nbformat_minor": 2,
 "cells": [
  {
   "cell_type": "code",
   "execution_count": 2,
   "metadata": {
    "tags": [
     "outputPrepend"
    ]
   },
   "outputs": [
    {
     "output_type": "stream",
     "name": "stdout",
     "text": "/datasets/เพราะเรา(ยัง)คู่กัน/เพราะเรา(ยัง)คู่กัน2366.jpg\n./datasets/เพราะเรา(ยัง)คู่กัน/เพราะเรา(ยัง)คู่กัน2367.jpg\n./datasets/เพราะเรา(ยัง)คู่กัน/เพราะเรา(ยัง)คู่กัน2368.jpg\n./datasets/เพราะเรา(ยัง)คู่กัน/เพราะเรา(ยัง)คู่กัน2369.jpg\n./datasets/เพราะเรา(ยัง)คู่กัน/เพราะเรา(ยัง)คู่กัน2370.jpg\n./datasets/เพราะเรา(ยัง)คู่กัน/เพราะเรา(ยัง)คู่กัน2371.jpg\n./datasets/เพราะเรา(ยัง)คู่กัน/เพราะเรา(ยัง)คู่กัน2372.jpg\n./datasets/เพราะเรา(ยัง)คู่กัน/เพราะเรา(ยัง)คู่กัน2373.jpg\n./datasets/เพราะเรา(ยัง)คู่กัน/เพราะเรา(ยัง)คู่กัน2374.jpg\n./datasets/เพราะเรา(ยัง)คู่กัน/เพราะเรา(ยัง)คู่กัน2375.jpg\n./datasets/เพราะเรา(ยัง)คู่กัน/เพราะเรา(ยัง)คู่กัน2376.jpg\n./datasets/เพราะเรา(ยัง)คู่กัน/เพราะเรา(ยัง)คู่กัน2377.jpg\n./datasets/เพราะเรา(ยัง)คู่กัน/เพราะเรา(ยัง)คู่กัน2378.jpg\n./datasets/เพราะเรา(ยัง)คู่กัน/เพราะเรา(ยัง)คู่กัน2379.jpg\n./datasets/เพราะเรา(ยัง)คู่กัน/เพราะเรา(ยัง)คู่กัน2380.jpg\n./datasets/เพราะเรา(ยัง)คู่กัน/เพราะเรา(ยัง)คู่กัน2381.jpg\n./datasets/เพราะเรา(ยัง)คู่กัน/เพราะเรา(ยัง)คู่กัน2382.jpg\n./datasets/เพราะเรา(ยัง)คู่กัน/เพราะเรา(ยัง)คู่กัน2383.jpg\n./datasets/เพราะเรา(ยัง)คู่กัน/เพราะเรา(ยัง)คู่กัน2384.jpg\n./datasets/เพราะเรา(ยัง)คู่กัน/เพราะเรา(ยัง)คู่กัน2385.jpg\n./datasets/เพราะเรา(ยัง)คู่กัน/เพราะเรา(ยัง)คู่กัน2386.jpg\n./datasets/เพราะเรา(ยัง)คู่กัน/เพราะเรา(ยัง)คู่กัน2387.jpg\n./datasets/เพราะเรา(ยัง)คู่กัน/เพราะเรา(ยัง)คู่กัน2388.jpg\n./datasets/เพราะเรา(ยัง)คู่กัน/เพราะเรา(ยัง)คู่กัน2389.jpg\n./datasets/เพราะเรา(ยัง)คู่กัน/เพราะเรา(ยัง)คู่กัน2390.jpg\n./datasets/เพราะเรา(ยัง)คู่กัน/เพราะเรา(ยัง)คู่กัน2391.jpg\n./datasets/เพราะเรา(ยัง)คู่กัน/เพราะเรา(ยัง)คู่กัน2392.jpg\n./datasets/เพราะเรา(ยัง)คู่กัน/เพราะเรา(ยัง)คู่กัน2393.jpg\n./datasets/เพราะเรา(ยัง)คู่กัน/เพราะเรา(ยัง)คู่กัน2394.jpg\n./datasets/เพราะเรา(ยัง)คู่กัน/เพราะเรา(ยัง)คู่กัน2395.jpg\n./datasets/เพราะเรา(ยัง)คู่กัน/เพราะเรา(ยัง)คู่กัน2396.jpg\n./datasets/เพราะเรา(ยัง)คู่กัน/เพราะเรา(ยัง)คู่กัน2397.jpg\n./datasets/เพราะเรา(ยัง)คู่กัน/เพราะเรา(ยัง)คู่กัน2398.jpg\n./datasets/เพราะเรา(ยัง)คู่กัน/เพราะเรา(ยัง)คู่กัน2399.jpg\n./datasets/เพราะเรา(ยัง)คู่กัน/เพราะเรา(ยัง)คู่กัน2400.jpg\n./datasets/เพราะเรา(ยัง)คู่กัน/เพราะเรา(ยัง)คู่กัน2401.jpg\n./datasets/เพราะเรา(ยัง)คู่กัน/เพราะเรา(ยัง)คู่กัน2402.jpg\n./datasets/เพราะเรา(ยัง)คู่กัน/เพราะเรา(ยัง)คู่กัน2403.jpg\n./datasets/เพราะเรา(ยัง)คู่กัน/เพราะเรา(ยัง)คู่กัน2404.jpg\n./datasets/เพราะเรา(ยัง)คู่กัน/เพราะเรา(ยัง)คู่กัน2405.jpg\n./datasets/เพราะเรา(ยัง)คู่กัน/เพราะเรา(ยัง)คู่กัน2406.jpg\n./datasets/เพราะเรา(ยัง)คู่กัน/เพราะเรา(ยัง)คู่กัน2407.jpg\n./datasets/เพราะเรา(ยัง)คู่กัน/เพราะเรา(ยัง)คู่กัน2408.jpg\n./datasets/เพราะเรา(ยัง)คู่กัน/เพราะเรา(ยัง)คู่กัน2409.jpg\n./datasets/เพราะเรา(ยัง)คู่กัน/เพราะเรา(ยัง)คู่กัน2410.jpg\n./datasets/เพราะเรา(ยัง)คู่กัน/เพราะเรา(ยัง)คู่กัน2411.jpg\n./datasets/เพราะเรา(ยัง)คู่กัน/เพราะเรา(ยัง)คู่กัน2412.jpg\n./datasets/เพราะเรา(ยัง)คู่กัน/เพราะเรา(ยัง)คู่กัน2413.jpg\n./datasets/เพราะเรา(ยัง)คู่กัน/เพราะเรา(ยัง)คู่กัน2414.jpg\n./datasets/เพราะเรา(ยัง)คู่กัน/เพราะเรา(ยัง)คู่กัน2415.jpg\n./datasets/เพราะเรา(ยัง)คู่กัน/เพราะเรา(ยัง)คู่กัน2416.jpg\n./datasets/เพราะเรา(ยัง)คู่กัน/เพราะเรา(ยัง)คู่กัน2417.jpg\n./datasets/เพราะเรา(ยัง)คู่กัน/เพราะเรา(ยัง)คู่กัน2418.jpg\n./datasets/เพราะเรา(ยัง)คู่กัน/เพราะเรา(ยัง)คู่กัน2419.jpg\n./datasets/เพราะเรา(ยัง)คู่กัน/เพราะเรา(ยัง)คู่กัน2420.jpg\n./datasets/เพราะเรา(ยัง)คู่กัน/เพราะเรา(ยัง)คู่กัน2421.jpg\n./datasets/เพราะเรา(ยัง)คู่กัน/เพราะเรา(ยัง)คู่กัน2422.jpg\n./datasets/เพราะเรา(ยัง)คู่กัน/เพราะเรา(ยัง)คู่กัน2423.jpg\n./datasets/เพราะเรา(ยัง)คู่กัน/เพราะเรา(ยัง)คู่กัน2424.jpg\n./datasets/เพราะเรา(ยัง)คู่กัน/เพราะเรา(ยัง)คู่กัน2425.jpg\n./datasets/เพราะเรา(ยัง)คู่กัน/เพราะเรา(ยัง)คู่กัน2426.jpg\n./datasets/เพราะเรา(ยัง)คู่กัน/เพราะเรา(ยัง)คู่กัน2427.jpg\n./datasets/เพราะเรา(ยัง)คู่กัน/เพราะเรา(ยัง)คู่กัน2428.jpg\n./datasets/เพราะเรา(ยัง)คู่กัน/เพราะเรา(ยัง)คู่กัน2429.jpg\n./datasets/เพราะเรา(ยัง)คู่กัน/เพราะเรา(ยัง)คู่กัน2430.jpg\n./datasets/เพราะเรา(ยัง)คู่กัน/เพราะเรา(ยัง)คู่กัน2431.jpg\n./datasets/เพราะเรา(ยัง)คู่กัน/เพราะเรา(ยัง)คู่กัน2432.jpg\n./datasets/เพราะเรา(ยัง)คู่กัน/เพราะเรา(ยัง)คู่กัน2433.jpg\n./datasets/เพราะเรา(ยัง)คู่กัน/เพราะเรา(ยัง)คู่กัน2434.jpg\n./datasets/เพราะเรา(ยัง)คู่กัน/เพราะเรา(ยัง)คู่กัน2435.jpg\n./datasets/เพราะเรา(ยัง)คู่กัน/เพราะเรา(ยัง)คู่กัน2436.jpg\n./datasets/เพราะเรา(ยัง)คู่กัน/เพราะเรา(ยัง)คู่กัน2437.jpg\n./datasets/เพราะเรา(ยัง)คู่กัน/เพราะเรา(ยัง)คู่กัน2438.jpg\n./datasets/เพราะเรา(ยัง)คู่กัน/เพราะเรา(ยัง)คู่กัน2439.jpg\n./datasets/เพราะเรา(ยัง)คู่กัน/เพราะเรา(ยัง)คู่กัน2440.jpg\n./datasets/เพราะเรา(ยัง)คู่กัน/เพราะเรา(ยัง)คู่กัน2441.jpg\n./datasets/เพราะเรา(ยัง)คู่กัน/เพราะเรา(ยัง)คู่กัน2442.jpg\n./datasets/เพราะเรา(ยัง)คู่กัน/เพราะเรา(ยัง)คู่กัน2443.jpg\n./datasets/เพราะเรา(ยัง)คู่กัน/เพราะเรา(ยัง)คู่กัน2444.jpg\n./datasets/เพราะเรา(ยัง)คู่กัน/เพราะเรา(ยัง)คู่กัน2445.jpg\n./datasets/เพราะเรา(ยัง)คู่กัน/เพราะเรา(ยัง)คู่กัน2446.jpg\n./datasets/เพราะเรา(ยัง)คู่กัน/เพราะเรา(ยัง)คู่กัน2447.jpg\n./datasets/เพราะเรา(ยัง)คู่กัน/เพราะเรา(ยัง)คู่กัน2448.jpg\n./datasets/เพราะเรา(ยัง)คู่กัน/เพราะเรา(ยัง)คู่กัน2449.jpg\n./datasets/เพราะเรา(ยัง)คู่กัน/เพราะเรา(ยัง)คู่กัน2450.jpg\n./datasets/เพราะเรา(ยัง)คู่กัน/เพราะเรา(ยัง)คู่กัน2451.jpg\n./datasets/เพราะเรา(ยัง)คู่กัน/เพราะเรา(ยัง)คู่กัน2452.jpg\n./datasets/เพราะเรา(ยัง)คู่กัน/เพราะเรา(ยัง)คู่กัน2453.jpg\n./datasets/เพราะเรา(ยัง)คู่กัน/เพราะเรา(ยัง)คู่กัน2454.jpg\n./datasets/เพราะเรา(ยัง)คู่กัน/เพราะเรา(ยัง)คู่กัน2455.jpg\n./datasets/เพราะเรา(ยัง)คู่กัน/เพราะเรา(ยัง)คู่กัน2456.jpg\n./datasets/เพราะเรา(ยัง)คู่กัน/เพราะเรา(ยัง)คู่กัน2457.jpg\n./datasets/เพราะเรา(ยัง)คู่กัน/เพราะเรา(ยัง)คู่กัน2458.jpg\n./datasets/เพราะเรา(ยัง)คู่กัน/เพราะเรา(ยัง)คู่กัน2459.jpg\n./datasets/เพราะเรา(ยัง)คู่กัน/เพราะเรา(ยัง)คู่กัน2460.jpg\n./datasets/เพราะเรา(ยัง)คู่กัน/เพราะเรา(ยัง)คู่กัน2461.jpg\n./datasets/เพราะเรา(ยัง)คู่กัน/เพราะเรา(ยัง)คู่กัน2462.jpg\n./datasets/เพราะเรา(ยัง)คู่กัน/เพราะเรา(ยัง)คู่กัน2463.jpg\n./datasets/เพราะเรา(ยัง)คู่กัน/เพราะเรา(ยัง)คู่กัน2464.jpg\n./datasets/เพราะเรา(ยัง)คู่กัน/เพราะเรา(ยัง)คู่กัน2465.jpg\n./datasets/เพราะเรา(ยัง)คู่กัน/เพราะเรา(ยัง)คู่กัน2466.jpg\n./datasets/เพราะเรา(ยัง)คู่กัน/เพราะเรา(ยัง)คู่กัน2467.jpg\n./datasets/เพราะเรา(ยัง)คู่กัน/เพราะเรา(ยัง)คู่กัน2468.jpg\n./datasets/เพราะเรา(ยัง)คู่กัน/เพราะเรา(ยัง)คู่กัน2469.jpg\n./datasets/เพราะเรา(ยัง)คู่กัน/เพราะเรา(ยัง)คู่กัน2470.jpg\n./datasets/เพราะเรา(ยัง)คู่กัน/เพราะเรา(ยัง)คู่กัน2471.jpg\n./datasets/เพราะเรา(ยัง)คู่กัน/เพราะเรา(ยัง)คู่กัน2472.jpg\n./datasets/เพราะเรา(ยัง)คู่กัน/เพราะเรา(ยัง)คู่กัน2473.jpg\n./datasets/เพราะเรา(ยัง)คู่กัน/เพราะเรา(ยัง)คู่กัน2474.jpg\n./datasets/เพราะเรา(ยัง)คู่กัน/เพราะเรา(ยัง)คู่กัน2475.jpg\n./datasets/เพราะเรา(ยัง)คู่กัน/เพราะเรา(ยัง)คู่กัน2476.jpg\n./datasets/เพราะเรา(ยัง)คู่กัน/เพราะเรา(ยัง)คู่กัน2477.jpg\n./datasets/เพราะเรา(ยัง)คู่กัน/เพราะเรา(ยัง)คู่กัน2478.jpg\n./datasets/เพราะเรา(ยัง)คู่กัน/เพราะเรา(ยัง)คู่กัน2479.jpg\n./datasets/เพราะเรา(ยัง)คู่กัน/เพราะเรา(ยัง)คู่กัน2480.jpg\n./datasets/เพราะเรา(ยัง)คู่กัน/เพราะเรา(ยัง)คู่กัน2481.jpg\n./datasets/เพราะเรา(ยัง)คู่กัน/เพราะเรา(ยัง)คู่กัน2482.jpg\n./datasets/เพราะเรา(ยัง)คู่กัน/เพราะเรา(ยัง)คู่กัน2483.jpg\n./datasets/เพราะเรา(ยัง)คู่กัน/เพราะเรา(ยัง)คู่กัน2484.jpg\n./datasets/เพราะเรา(ยัง)คู่กัน/เพราะเรา(ยัง)คู่กัน2485.jpg\n./datasets/เพราะเรา(ยัง)คู่กัน/เพราะเรา(ยัง)คู่กัน2486.jpg\n./datasets/เพราะเรา(ยัง)คู่กัน/เพราะเรา(ยัง)คู่กัน2487.jpg\n./datasets/เพราะเรา(ยัง)คู่กัน/เพราะเรา(ยัง)คู่กัน2488.jpg\n./datasets/เพราะเรา(ยัง)คู่กัน/เพราะเรา(ยัง)คู่กัน2489.jpg\n./datasets/เพราะเรา(ยัง)คู่กัน/เพราะเรา(ยัง)คู่กัน2490.jpg\n./datasets/เพราะเรา(ยัง)คู่กัน/เพราะเรา(ยัง)คู่กัน2491.jpg\n./datasets/เพราะเรา(ยัง)คู่กัน/เพราะเรา(ยัง)คู่กัน2492.jpg\n./datasets/เพราะเรา(ยัง)คู่กัน/เพราะเรา(ยัง)คู่กัน2493.jpg\n./datasets/เพราะเรา(ยัง)คู่กัน/เพราะเรา(ยัง)คู่กัน2494.jpg\n./datasets/เพราะเรา(ยัง)คู่กัน/เพราะเรา(ยัง)คู่กัน2495.jpg\n./datasets/เพราะเรา(ยัง)คู่กัน/เพราะเรา(ยัง)คู่กัน2496.jpg\n./datasets/เพราะเรา(ยัง)คู่กัน/เพราะเรา(ยัง)คู่กัน2497.jpg\n./datasets/เพราะเรา(ยัง)คู่กัน/เพราะเรา(ยัง)คู่กัน2498.jpg\n./datasets/เพราะเรา(ยัง)คู่กัน/เพราะเรา(ยัง)คู่กัน2499.jpg\n./datasets/เพราะเรา(ยัง)คู่กัน/เพราะเรา(ยัง)คู่กัน2500.jpg\n./datasets/เพราะเรา(ยัง)คู่กัน/เพราะเรา(ยัง)คู่กัน2501.jpg\n./datasets/เพราะเรา(ยัง)คู่กัน/เพราะเรา(ยัง)คู่กัน2502.jpg\n./datasets/เพราะเรา(ยัง)คู่กัน/เพราะเรา(ยัง)คู่กัน2503.jpg\n./datasets/เพราะเรา(ยัง)คู่กัน/เพราะเรา(ยัง)คู่กัน2504.jpg\n./datasets/เพราะเรา(ยัง)คู่กัน/เพราะเรา(ยัง)คู่กัน2505.jpg\n./datasets/เพราะเรา(ยัง)คู่กัน/เพราะเรา(ยัง)คู่กัน2506.jpg\n./datasets/เพราะเรา(ยัง)คู่กัน/เพราะเรา(ยัง)คู่กัน2507.jpg\n./datasets/เพราะเรา(ยัง)คู่กัน/เพราะเรา(ยัง)คู่กัน2508.jpg\n./datasets/เพราะเรา(ยัง)คู่กัน/เพราะเรา(ยัง)คู่กัน2509.jpg\n./datasets/เพราะเรา(ยัง)คู่กัน/เพราะเรา(ยัง)คู่กัน2510.jpg\n./datasets/เพราะเรา(ยัง)คู่กัน/เพราะเรา(ยัง)คู่กัน2511.jpg\n./datasets/เพราะเรา(ยัง)คู่กัน/เพราะเรา(ยัง)คู่กัน2512.jpg\n./datasets/เพราะเรา(ยัง)คู่กัน/เพราะเรา(ยัง)คู่กัน2513.jpg\n./datasets/เพราะเรา(ยัง)คู่กัน/เพราะเรา(ยัง)คู่กัน2514.jpg\n./datasets/เพราะเรา(ยัง)คู่กัน/เพราะเรา(ยัง)คู่กัน2515.jpg\n./datasets/เพราะเรา(ยัง)คู่กัน/เพราะเรา(ยัง)คู่กัน2516.jpg\n./datasets/เพราะเรา(ยัง)คู่กัน/เพราะเรา(ยัง)คู่กัน2517.jpg\n./datasets/เพราะเรา(ยัง)คู่กัน/เพราะเรา(ยัง)คู่กัน2518.jpg\n./datasets/เพราะเรา(ยัง)คู่กัน/เพราะเรา(ยัง)คู่กัน2519.jpg\n./datasets/เพราะเรา(ยัง)คู่กัน/เพราะเรา(ยัง)คู่กัน2520.jpg\n./datasets/เพราะเรา(ยัง)คู่กัน/เพราะเรา(ยัง)คู่กัน2521.jpg\n./datasets/เพราะเรา(ยัง)คู่กัน/เพราะเรา(ยัง)คู่กัน2522.jpg\n./datasets/เพราะเรา(ยัง)คู่กัน/เพราะเรา(ยัง)คู่กัน2523.jpg\n./datasets/เพราะเรา(ยัง)คู่กัน/เพราะเรา(ยัง)คู่กัน2524.jpg\n./datasets/เพราะเรา(ยัง)คู่กัน/เพราะเรา(ยัง)คู่กัน2525.jpg\n./datasets/เพราะเรา(ยัง)คู่กัน/เพราะเรา(ยัง)คู่กัน2526.jpg\n./datasets/เพราะเรา(ยัง)คู่กัน/เพราะเรา(ยัง)คู่กัน2527.jpg\n./datasets/เพราะเรา(ยัง)คู่กัน/เพราะเรา(ยัง)คู่กัน2528.jpg\n./datasets/เพราะเรา(ยัง)คู่กัน/เพราะเรา(ยัง)คู่กัน2529.jpg\n./datasets/เพราะเรา(ยัง)คู่กัน/เพราะเรา(ยัง)คู่กัน2530.jpg\n./datasets/เพราะเรา(ยัง)คู่กัน/เพราะเรา(ยัง)คู่กัน2531.jpg\n./datasets/เพราะเรา(ยัง)คู่กัน/เพราะเรา(ยัง)คู่กัน2532.jpg\n./datasets/เพราะเรา(ยัง)คู่กัน/เพราะเรา(ยัง)คู่กัน2533.jpg\n./datasets/เพราะเรา(ยัง)คู่กัน/เพราะเรา(ยัง)คู่กัน2534.jpg\n./datasets/เพราะเรา(ยัง)คู่กัน/เพราะเรา(ยัง)คู่กัน2535.jpg\n./datasets/เพราะเรา(ยัง)คู่กัน/เพราะเรา(ยัง)คู่กัน2536.jpg\n./datasets/เพราะเรา(ยัง)คู่กัน/เพราะเรา(ยัง)คู่กัน2537.jpg\n./datasets/เพราะเรา(ยัง)คู่กัน/เพราะเรา(ยัง)คู่กัน2538.jpg\n./datasets/เพราะเรา(ยัง)คู่กัน/เพราะเรา(ยัง)คู่กัน2539.jpg\n./datasets/เพราะเรา(ยัง)คู่กัน/เพราะเรา(ยัง)คู่กัน2540.jpg\n./datasets/เพราะเรา(ยัง)คู่กัน/เพราะเรา(ยัง)คู่กัน2541.jpg\n./datasets/เพราะเรา(ยัง)คู่กัน/เพราะเรา(ยัง)คู่กัน2542.jpg\n./datasets/เพราะเรา(ยัง)คู่กัน/เพราะเรา(ยัง)คู่กัน2543.jpg\n./datasets/เพราะเรา(ยัง)คู่กัน/เพราะเรา(ยัง)คู่กัน2544.jpg\n./datasets/เพราะเรา(ยัง)คู่กัน/เพราะเรา(ยัง)คู่กัน2545.jpg\n./datasets/เพราะเรา(ยัง)คู่กัน/เพราะเรา(ยัง)คู่กัน2546.jpg\n./datasets/เพราะเรา(ยัง)คู่กัน/เพราะเรา(ยัง)คู่กัน2547.jpg\n./datasets/เพราะเรา(ยัง)คู่กัน/เพราะเรา(ยัง)คู่กัน2548.jpg\n./datasets/เพราะเรา(ยัง)คู่กัน/เพราะเรา(ยัง)คู่กัน2549.jpg\n./datasets/เพราะเรา(ยัง)คู่กัน/เพราะเรา(ยัง)คู่กัน2550.jpg\n./datasets/เพราะเรา(ยัง)คู่กัน/เพราะเรา(ยัง)คู่กัน2551.jpg\n./datasets/เพราะเรา(ยัง)คู่กัน/เพราะเรา(ยัง)คู่กัน2552.jpg\n./datasets/เพราะเรา(ยัง)คู่กัน/เพราะเรา(ยัง)คู่กัน2553.jpg\n./datasets/เพราะเรา(ยัง)คู่กัน/เพราะเรา(ยัง)คู่กัน2554.jpg\n./datasets/เพราะเรา(ยัง)คู่กัน/เพราะเรา(ยัง)คู่กัน2555.jpg\n./datasets/เพราะเรา(ยัง)คู่กัน/เพราะเรา(ยัง)คู่กัน2556.jpg\n./datasets/เพราะเรา(ยัง)คู่กัน/เพราะเรา(ยัง)คู่กัน2557.jpg\n./datasets/เพราะเรา(ยัง)คู่กัน/เพราะเรา(ยัง)คู่กัน2558.jpg\n./datasets/เพราะเรา(ยัง)คู่กัน/เพราะเรา(ยัง)คู่กัน2559.jpg\n./datasets/เพราะเรา(ยัง)คู่กัน/เพราะเรา(ยัง)คู่กัน2560.jpg\n./datasets/เพราะเรา(ยัง)คู่กัน/เพราะเรา(ยัง)คู่กัน2561.jpg\n./datasets/เพราะเรา(ยัง)คู่กัน/เพราะเรา(ยัง)คู่กัน2562.jpg\n./datasets/เพราะเรา(ยัง)คู่กัน/เพราะเรา(ยัง)คู่กัน2563.jpg\n./datasets/เพราะเรา(ยัง)คู่กัน/เพราะเรา(ยัง)คู่กัน2564.jpg\n./datasets/เพราะเรา(ยัง)คู่กัน/เพราะเรา(ยัง)คู่กัน2565.jpg\n./datasets/เพราะเรา(ยัง)คู่กัน/เพราะเรา(ยัง)คู่กัน2566.jpg\n./datasets/เพราะเรา(ยัง)คู่กัน/เพราะเรา(ยัง)คู่กัน2567.jpg\n./datasets/เพราะเรา(ยัง)คู่กัน/เพราะเรา(ยัง)คู่กัน2568.jpg\n./datasets/เพราะเรา(ยัง)คู่กัน/เพราะเรา(ยัง)คู่กัน2569.jpg\n./datasets/เพราะเรา(ยัง)คู่กัน/เพราะเรา(ยัง)คู่กัน2570.jpg\n./datasets/เพราะเรา(ยัง)คู่กัน/เพราะเรา(ยัง)คู่กัน2571.jpg\n./datasets/เพราะเรา(ยัง)คู่กัน/เพราะเรา(ยัง)คู่กัน2572.jpg\n./datasets/เพราะเรา(ยัง)คู่กัน/เพราะเรา(ยัง)คู่กัน2573.jpg\n./datasets/เพราะเรา(ยัง)คู่กัน/เพราะเรา(ยัง)คู่กัน2574.jpg\n./datasets/เพราะเรา(ยัง)คู่กัน/เพราะเรา(ยัง)คู่กัน2575.jpg\n./datasets/เพราะเรา(ยัง)คู่กัน/เพราะเรา(ยัง)คู่กัน2576.jpg\n./datasets/เพราะเรา(ยัง)คู่กัน/เพราะเรา(ยัง)คู่กัน2577.jpg\n./datasets/เพราะเรา(ยัง)คู่กัน/เพราะเรา(ยัง)คู่กัน2578.jpg\n./datasets/เพราะเรา(ยัง)คู่กัน/เพราะเรา(ยัง)คู่กัน2579.jpg\n./datasets/เพราะเรา(ยัง)คู่กัน/เพราะเรา(ยัง)คู่กัน2580.jpg\n./datasets/เพราะเรา(ยัง)คู่กัน/เพราะเรา(ยัง)คู่กัน2581.jpg\n./datasets/เพราะเรา(ยัง)คู่กัน/เพราะเรา(ยัง)คู่กัน2582.jpg\n./datasets/เพราะเรา(ยัง)คู่กัน/เพราะเรา(ยัง)คู่กัน2583.jpg\n./datasets/เพราะเรา(ยัง)คู่กัน/เพราะเรา(ยัง)คู่กัน2584.jpg\n./datasets/เพราะเรา(ยัง)คู่กัน/เพราะเรา(ยัง)คู่กัน2585.jpg\n./datasets/เพราะเรา(ยัง)คู่กัน/เพราะเรา(ยัง)คู่กัน2586.jpg\n./datasets/เพราะเรา(ยัง)คู่กัน/เพราะเรา(ยัง)คู่กัน2587.jpg\n./datasets/เพราะเรา(ยัง)คู่กัน/เพราะเรา(ยัง)คู่กัน2588.jpg\n./datasets/เพราะเรา(ยัง)คู่กัน/เพราะเรา(ยัง)คู่กัน2589.jpg\n./datasets/เพราะเรา(ยัง)คู่กัน/เพราะเรา(ยัง)คู่กัน2590.jpg\n./datasets/เพราะเรา(ยัง)คู่กัน/เพราะเรา(ยัง)คู่กัน2591.jpg\n./datasets/เพราะเรา(ยัง)คู่กัน/เพราะเรา(ยัง)คู่กัน2592.jpg\n./datasets/เพราะเรา(ยัง)คู่กัน/เพราะเรา(ยัง)คู่กัน2593.jpg\n./datasets/เพราะเรา(ยัง)คู่กัน/เพราะเรา(ยัง)คู่กัน2594.jpg\n./datasets/เพราะเรา(ยัง)คู่กัน/เพราะเรา(ยัง)คู่กัน2595.jpg\n./datasets/เพราะเรา(ยัง)คู่กัน/เพราะเรา(ยัง)คู่กัน2596.jpg\n./datasets/เพราะเรา(ยัง)คู่กัน/เพราะเรา(ยัง)คู่กัน2597.jpg\n./datasets/เพราะเรา(ยัง)คู่กัน/เพราะเรา(ยัง)คู่กัน2598.jpg\n./datasets/เพราะเรา(ยัง)คู่กัน/เพราะเรา(ยัง)คู่กัน2599.jpg\n./datasets/เพราะเรา(ยัง)คู่กัน/เพราะเรา(ยัง)คู่กัน2600.jpg\n./datasets/เพราะเรา(ยัง)คู่กัน/เพราะเรา(ยัง)คู่กัน2601.jpg\n./datasets/เพราะเรา(ยัง)คู่กัน/เพราะเรา(ยัง)คู่กัน2602.jpg\n./datasets/เพราะเรา(ยัง)คู่กัน/เพราะเรา(ยัง)คู่กัน2603.jpg\n./datasets/เพราะเรา(ยัง)คู่กัน/เพราะเรา(ยัง)คู่กัน2604.jpg\n./datasets/เพราะเรา(ยัง)คู่กัน/เพราะเรา(ยัง)คู่กัน2605.jpg\n./datasets/เพราะเรา(ยัง)คู่กัน/เพราะเรา(ยัง)คู่กัน2606.jpg\n./datasets/เพราะเรา(ยัง)คู่กัน/เพราะเรา(ยัง)คู่กัน2607.jpg\n./datasets/เพราะเรา(ยัง)คู่กัน/เพราะเรา(ยัง)คู่กัน2608.jpg\n./datasets/เพราะเรา(ยัง)คู่กัน/เพราะเรา(ยัง)คู่กัน2609.jpg\n./datasets/เพราะเรา(ยัง)คู่กัน/เพราะเรา(ยัง)คู่กัน2610.jpg\n./datasets/เพราะเรา(ยัง)คู่กัน/เพราะเรา(ยัง)คู่กัน2611.jpg\n./datasets/เพราะเรา(ยัง)คู่กัน/เพราะเรา(ยัง)คู่กัน2612.jpg\n./datasets/เพราะเรา(ยัง)คู่กัน/เพราะเรา(ยัง)คู่กัน2613.jpg\n./datasets/เพราะเรา(ยัง)คู่กัน/เพราะเรา(ยัง)คู่กัน2614.jpg\n./datasets/เพราะเรา(ยัง)คู่กัน/เพราะเรา(ยัง)คู่กัน2615.jpg\n./datasets/เพราะเรา(ยัง)คู่กัน/เพราะเรา(ยัง)คู่กัน2616.jpg\n./datasets/เพราะเรา(ยัง)คู่กัน/เพราะเรา(ยัง)คู่กัน2617.jpg\n./datasets/เพราะเรา(ยัง)คู่กัน/เพราะเรา(ยัง)คู่กัน2618.jpg\n./datasets/เพราะเรา(ยัง)คู่กัน/เพราะเรา(ยัง)คู่กัน2619.jpg\n./datasets/เพราะเรา(ยัง)คู่กัน/เพราะเรา(ยัง)คู่กัน2620.jpg\n./datasets/เพราะเรา(ยัง)คู่กัน/เพราะเรา(ยัง)คู่กัน2621.jpg\n./datasets/เพราะเรา(ยัง)คู่กัน/เพราะเรา(ยัง)คู่กัน2622.jpg\n./datasets/เพราะเรา(ยัง)คู่กัน/เพราะเรา(ยัง)คู่กัน2623.jpg\n./datasets/เพราะเรา(ยัง)คู่กัน/เพราะเรา(ยัง)คู่กัน2624.jpg\n./datasets/เพราะเรา(ยัง)คู่กัน/เพราะเรา(ยัง)คู่กัน2625.jpg\n./datasets/เพราะเรา(ยัง)คู่กัน/เพราะเรา(ยัง)คู่กัน2626.jpg\n./datasets/เพราะเรา(ยัง)คู่กัน/เพราะเรา(ยัง)คู่กัน2627.jpg\n./datasets/เพราะเรา(ยัง)คู่กัน/เพราะเรา(ยัง)คู่กัน2628.jpg\n./datasets/เพราะเรา(ยัง)คู่กัน/เพราะเรา(ยัง)คู่กัน2629.jpg\n./datasets/เพราะเรา(ยัง)คู่กัน/เพราะเรา(ยัง)คู่กัน2630.jpg\n./datasets/เพราะเรา(ยัง)คู่กัน/เพราะเรา(ยัง)คู่กัน2631.jpg\n./datasets/เพราะเรา(ยัง)คู่กัน/เพราะเรา(ยัง)คู่กัน2632.jpg\n./datasets/เพราะเรา(ยัง)คู่กัน/เพราะเรา(ยัง)คู่กัน2633.jpg\n./datasets/เพราะเรา(ยัง)คู่กัน/เพราะเรา(ยัง)คู่กัน2634.jpg\n./datasets/เพราะเรา(ยัง)คู่กัน/เพราะเรา(ยัง)คู่กัน2635.jpg\n./datasets/เพราะเรา(ยัง)คู่กัน/เพราะเรา(ยัง)คู่กัน2636.jpg\n./datasets/เพราะเรา(ยัง)คู่กัน/เพราะเรา(ยัง)คู่กัน2637.jpg\n./datasets/เพราะเรา(ยัง)คู่กัน/เพราะเรา(ยัง)คู่กัน2638.jpg\n./datasets/เพราะเรา(ยัง)คู่กัน/เพราะเรา(ยัง)คู่กัน2639.jpg\n./datasets/เพราะเรา(ยัง)คู่กัน/เพราะเรา(ยัง)คู่กัน2640.jpg\n./datasets/เพราะเรา(ยัง)คู่กัน/เพราะเรา(ยัง)คู่กัน2641.jpg\n./datasets/เพราะเรา(ยัง)คู่กัน/เพราะเรา(ยัง)คู่กัน2642.jpg\n./datasets/เพราะเรา(ยัง)คู่กัน/เพราะเรา(ยัง)คู่กัน2643.jpg\n./datasets/เพราะเรา(ยัง)คู่กัน/เพราะเรา(ยัง)คู่กัน2644.jpg\n./datasets/เพราะเรา(ยัง)คู่กัน/เพราะเรา(ยัง)คู่กัน2645.jpg\n./datasets/เพราะเรา(ยัง)คู่กัน/เพราะเรา(ยัง)คู่กัน2646.jpg\n./datasets/เพราะเรา(ยัง)คู่กัน/เพราะเรา(ยัง)คู่กัน2647.jpg\n./datasets/เพราะเรา(ยัง)คู่กัน/เพราะเรา(ยัง)คู่กัน2648.jpg\n./datasets/เพราะเรา(ยัง)คู่กัน/เพราะเรา(ยัง)คู่กัน2649.jpg\n./datasets/เพราะเรา(ยัง)คู่กัน/เพราะเรา(ยัง)คู่กัน2650.jpg\n./datasets/เพราะเรา(ยัง)คู่กัน/เพราะเรา(ยัง)คู่กัน2651.jpg\n./datasets/เพราะเรา(ยัง)คู่กัน/เพราะเรา(ยัง)คู่กัน2652.jpg\n./datasets/เพราะเรา(ยัง)คู่กัน/เพราะเรา(ยัง)คู่กัน2653.jpg\n./datasets/เพราะเรา(ยัง)คู่กัน/เพราะเรา(ยัง)คู่กัน2654.jpg\n./datasets/เพราะเรา(ยัง)คู่กัน/เพราะเรา(ยัง)คู่กัน2655.jpg\n./datasets/เพราะเรา(ยัง)คู่กัน/เพราะเรา(ยัง)คู่กัน2656.jpg\n./datasets/เพราะเรา(ยัง)คู่กัน/เพราะเรา(ยัง)คู่กัน2657.jpg\n./datasets/เพราะเรา(ยัง)คู่กัน/เพราะเรา(ยัง)คู่กัน2658.jpg\n./datasets/เพราะเรา(ยัง)คู่กัน/เพราะเรา(ยัง)คู่กัน2659.jpg\n./datasets/เพราะเรา(ยัง)คู่กัน/เพราะเรา(ยัง)คู่กัน2660.jpg\n./datasets/เพราะเรา(ยัง)คู่กัน/เพราะเรา(ยัง)คู่กัน2661.jpg\n./datasets/เพราะเรา(ยัง)คู่กัน/เพราะเรา(ยัง)คู่กัน2662.jpg\n./datasets/เพราะเรา(ยัง)คู่กัน/เพราะเรา(ยัง)คู่กัน2663.jpg\n./datasets/เพราะเรา(ยัง)คู่กัน/เพราะเรา(ยัง)คู่กัน2664.jpg\n./datasets/เพราะเรา(ยัง)คู่กัน/เพราะเรา(ยัง)คู่กัน2665.jpg\n./datasets/เพราะเรา(ยัง)คู่กัน/เพราะเรา(ยัง)คู่กัน2666.jpg\n./datasets/เพราะเรา(ยัง)คู่กัน/เพราะเรา(ยัง)คู่กัน2667.jpg\n./datasets/เพราะเรา(ยัง)คู่กัน/เพราะเรา(ยัง)คู่กัน2668.jpg\n./datasets/เพราะเรา(ยัง)คู่กัน/เพราะเรา(ยัง)คู่กัน2669.jpg\n./datasets/เพราะเรา(ยัง)คู่กัน/เพราะเรา(ยัง)คู่กัน2670.jpg\n./datasets/เพราะเรา(ยัง)คู่กัน/เพราะเรา(ยัง)คู่กัน2671.jpg\n./datasets/เพราะเรา(ยัง)คู่กัน/เพราะเรา(ยัง)คู่กัน2672.jpg\n./datasets/เพราะเรา(ยัง)คู่กัน/เพราะเรา(ยัง)คู่กัน2673.jpg\n./datasets/เพราะเรา(ยัง)คู่กัน/เพราะเรา(ยัง)คู่กัน2674.jpg\n./datasets/เพราะเรา(ยัง)คู่กัน/เพราะเรา(ยัง)คู่กัน2675.jpg\n./datasets/เพราะเรา(ยัง)คู่กัน/เพราะเรา(ยัง)คู่กัน2676.jpg\n./datasets/เพราะเรา(ยัง)คู่กัน/เพราะเรา(ยัง)คู่กัน2677.jpg\n./datasets/เพราะเรา(ยัง)คู่กัน/เพราะเรา(ยัง)คู่กัน2678.jpg\n./datasets/เพราะเรา(ยัง)คู่กัน/เพราะเรา(ยัง)คู่กัน2679.jpg\n./datasets/เพราะเรา(ยัง)คู่กัน/เพราะเรา(ยัง)คู่กัน2680.jpg\n./datasets/เพราะเรา(ยัง)คู่กัน/เพราะเรา(ยัง)คู่กัน2681.jpg\n./datasets/เพราะเรา(ยัง)คู่กัน/เพราะเรา(ยัง)คู่กัน2682.jpg\n./datasets/เพราะเรา(ยัง)คู่กัน/เพราะเรา(ยัง)คู่กัน2683.jpg\n./datasets/เพราะเรา(ยัง)คู่กัน/เพราะเรา(ยัง)คู่กัน2684.jpg\n./datasets/เพราะเรา(ยัง)คู่กัน/เพราะเรา(ยัง)คู่กัน2685.jpg\n./datasets/เพราะเรา(ยัง)คู่กัน/เพราะเรา(ยัง)คู่กัน2686.jpg\n./datasets/เพราะเรา(ยัง)คู่กัน/เพราะเรา(ยัง)คู่กัน2687.jpg\n./datasets/เพราะเรา(ยัง)คู่กัน/เพราะเรา(ยัง)คู่กัน2688.jpg\n./datasets/เพราะเรา(ยัง)คู่กัน/เพราะเรา(ยัง)คู่กัน2689.jpg\n./datasets/เพราะเรา(ยัง)คู่กัน/เพราะเรา(ยัง)คู่กัน2690.jpg\n./datasets/เพราะเรา(ยัง)คู่กัน/เพราะเรา(ยัง)คู่กัน2691.jpg\n./datasets/เพราะเรา(ยัง)คู่กัน/เพราะเรา(ยัง)คู่กัน2692.jpg\n./datasets/เพราะเรา(ยัง)คู่กัน/เพราะเรา(ยัง)คู่กัน2693.jpg\n./datasets/เพราะเรา(ยัง)คู่กัน/เพราะเรา(ยัง)คู่กัน2694.jpg\n./datasets/เพราะเรา(ยัง)คู่กัน/เพราะเรา(ยัง)คู่กัน2695.jpg\n./datasets/เพราะเรา(ยัง)คู่กัน/เพราะเรา(ยัง)คู่กัน2696.jpg\n./datasets/เพราะเรา(ยัง)คู่กัน/เพราะเรา(ยัง)คู่กัน2697.jpg\n./datasets/เพราะเรา(ยัง)คู่กัน/เพราะเรา(ยัง)คู่กัน2698.jpg\n./datasets/เพราะเรา(ยัง)คู่กัน/เพราะเรา(ยัง)คู่กัน2699.jpg\n./datasets/เพราะเรา(ยัง)คู่กัน/เพราะเรา(ยัง)คู่กัน2700.jpg\n./datasets/เพราะเรา(ยัง)คู่กัน/เพราะเรา(ยัง)คู่กัน2701.jpg\n./datasets/เพราะเรา(ยัง)คู่กัน/เพราะเรา(ยัง)คู่กัน2702.jpg\n./datasets/เพราะเรา(ยัง)คู่กัน/เพราะเรา(ยัง)คู่กัน2703.jpg\n./datasets/เพราะเรา(ยัง)คู่กัน/เพราะเรา(ยัง)คู่กัน2704.jpg\n"
    }
   ],
   "source": [
    "#Preprocessing video -> image frames\n",
    "import cv2\n",
    "import os\n",
    "import numpy as np\n",
    "import imageio\n",
    "\n",
    "#Open the video file\n",
    "capture = cv2.VideoCapture('./datasets/คนนั้นต้องเป็นเธอ.mp4')\n",
    "i = 0\n",
    "frameNumber = 1\n",
    "while(capture.isOpened()):\n",
    "    ret, frame = capture.read()\n",
    "    if ret == False:\n",
    "        break\n",
    "    if i % 3 == 0:\n",
    "        cv2.imwrite('./datasets/เพราะเรา(ยัง)คู่กัน/เพราะเรา(ยัง)คู่กัน'+str(frameNumber)+'.jpg', frame)\n",
    "        print('./datasets/เพราะเรา(ยัง)คู่กัน/เพราะเรา(ยัง)คู่กัน'+str(frameNumber)+'.jpg')\n",
    "        frameNumber = frameNumber+1\n",
    "    i = i+1\n",
    "capture.release()\n",
    "cv2.destroyAllWindows()"
   ]
  },
  {
   "cell_type": "code",
   "execution_count": 4,
   "metadata": {
    "tags": [
     "outputPrepend"
    ]
   },
   "outputs": [
    {
     "output_type": "stream",
     "name": "stdout",
     "text": "g\n./datasets/2/1796.jpg\n./datasets/2/1797.jpg\n./datasets/2/1798.jpg\n./datasets/2/1799.jpg\n./datasets/2/1800.jpg\n./datasets/2/1801.jpg\n./datasets/2/1802.jpg\n./datasets/2/1803.jpg\n./datasets/2/1804.jpg\n./datasets/2/1805.jpg\n./datasets/2/1806.jpg\n./datasets/2/1807.jpg\n./datasets/2/1808.jpg\n./datasets/2/1809.jpg\n./datasets/2/1810.jpg\n./datasets/2/1811.jpg\n./datasets/2/1812.jpg\n./datasets/2/1813.jpg\n./datasets/2/1814.jpg\n./datasets/2/1815.jpg\n./datasets/2/1816.jpg\n./datasets/2/1817.jpg\n./datasets/2/1818.jpg\n./datasets/2/1819.jpg\n./datasets/2/1820.jpg\n./datasets/2/1821.jpg\n./datasets/2/1822.jpg\n./datasets/2/1823.jpg\n./datasets/2/1824.jpg\n./datasets/2/1825.jpg\n./datasets/2/1826.jpg\n./datasets/2/1827.jpg\n./datasets/2/1828.jpg\n./datasets/2/1829.jpg\n./datasets/2/1830.jpg\n./datasets/2/1831.jpg\n./datasets/2/1832.jpg\n./datasets/2/1833.jpg\n./datasets/2/1834.jpg\n./datasets/2/1835.jpg\n./datasets/2/1836.jpg\n./datasets/2/1837.jpg\n./datasets/2/1838.jpg\n./datasets/2/1839.jpg\n./datasets/2/1840.jpg\n./datasets/2/1841.jpg\n./datasets/2/1842.jpg\n./datasets/2/1843.jpg\n./datasets/2/1844.jpg\n./datasets/2/1845.jpg\n./datasets/2/1846.jpg\n./datasets/2/1847.jpg\n./datasets/2/1848.jpg\n./datasets/2/1849.jpg\n./datasets/2/1850.jpg\n./datasets/2/1851.jpg\n./datasets/2/1852.jpg\n./datasets/2/1853.jpg\n./datasets/2/1854.jpg\n./datasets/2/1855.jpg\n./datasets/2/1856.jpg\n./datasets/2/1857.jpg\n./datasets/2/1858.jpg\n./datasets/2/1859.jpg\n./datasets/2/1860.jpg\n./datasets/2/1861.jpg\n./datasets/2/1862.jpg\n./datasets/2/1863.jpg\n./datasets/2/1864.jpg\n./datasets/2/1865.jpg\n./datasets/2/1866.jpg\n./datasets/2/1867.jpg\n./datasets/2/1868.jpg\n./datasets/2/1869.jpg\n./datasets/2/1870.jpg\n./datasets/2/1871.jpg\n./datasets/2/1872.jpg\n./datasets/2/1873.jpg\n./datasets/2/1874.jpg\n./datasets/2/1875.jpg\n./datasets/2/1876.jpg\n./datasets/2/1877.jpg\n./datasets/2/1878.jpg\n./datasets/2/1879.jpg\n./datasets/2/1880.jpg\n./datasets/2/1881.jpg\n./datasets/2/1882.jpg\n./datasets/2/1883.jpg\n./datasets/2/1884.jpg\n./datasets/2/1885.jpg\n./datasets/2/1886.jpg\n./datasets/2/1887.jpg\n./datasets/2/1888.jpg\n./datasets/2/1889.jpg\n./datasets/2/1890.jpg\n./datasets/2/1891.jpg\n./datasets/2/1892.jpg\n./datasets/2/1893.jpg\n./datasets/2/1894.jpg\n./datasets/2/1895.jpg\n./datasets/2/1896.jpg\n./datasets/2/1897.jpg\n./datasets/2/1898.jpg\n./datasets/2/1899.jpg\n./datasets/2/1900.jpg\n./datasets/2/1901.jpg\n./datasets/2/1902.jpg\n./datasets/2/1903.jpg\n./datasets/2/1904.jpg\n./datasets/2/1905.jpg\n./datasets/2/1906.jpg\n./datasets/2/1907.jpg\n./datasets/2/1908.jpg\n./datasets/2/1909.jpg\n./datasets/2/1910.jpg\n./datasets/2/1911.jpg\n./datasets/2/1912.jpg\n./datasets/2/1913.jpg\n./datasets/2/1914.jpg\n./datasets/2/1915.jpg\n./datasets/2/1916.jpg\n./datasets/2/1917.jpg\n./datasets/2/1918.jpg\n./datasets/2/1919.jpg\n./datasets/2/1920.jpg\n./datasets/2/1921.jpg\n./datasets/2/1922.jpg\n./datasets/2/1923.jpg\n./datasets/2/1924.jpg\n./datasets/2/1925.jpg\n./datasets/2/1926.jpg\n./datasets/2/1927.jpg\n./datasets/2/1928.jpg\n./datasets/2/1929.jpg\n./datasets/2/1930.jpg\n./datasets/2/1931.jpg\n./datasets/2/1932.jpg\n./datasets/2/1933.jpg\n./datasets/2/1934.jpg\n./datasets/2/1935.jpg\n./datasets/2/1936.jpg\n./datasets/2/1937.jpg\n./datasets/2/1938.jpg\n./datasets/2/1939.jpg\n./datasets/2/1940.jpg\n./datasets/2/1941.jpg\n./datasets/2/1942.jpg\n./datasets/2/1943.jpg\n./datasets/2/1944.jpg\n./datasets/2/1945.jpg\n./datasets/2/1946.jpg\n./datasets/2/1947.jpg\n./datasets/2/1948.jpg\n./datasets/2/1949.jpg\n./datasets/2/1950.jpg\n./datasets/2/1951.jpg\n./datasets/2/1952.jpg\n./datasets/2/1953.jpg\n./datasets/2/1954.jpg\n./datasets/2/1955.jpg\n./datasets/2/1956.jpg\n./datasets/2/1957.jpg\n./datasets/2/1958.jpg\n./datasets/2/1959.jpg\n./datasets/2/1960.jpg\n./datasets/2/1961.jpg\n./datasets/2/1962.jpg\n./datasets/2/1963.jpg\n./datasets/2/1964.jpg\n./datasets/2/1965.jpg\n./datasets/2/1966.jpg\n./datasets/2/1967.jpg\n./datasets/2/1968.jpg\n./datasets/2/1969.jpg\n./datasets/2/1970.jpg\n./datasets/2/1971.jpg\n./datasets/2/1972.jpg\n./datasets/2/1973.jpg\n./datasets/2/1974.jpg\n./datasets/2/1975.jpg\n./datasets/2/1976.jpg\n./datasets/2/1977.jpg\n./datasets/2/1978.jpg\n./datasets/2/1979.jpg\n./datasets/2/1980.jpg\n./datasets/2/1981.jpg\n./datasets/2/1982.jpg\n./datasets/2/1983.jpg\n./datasets/2/1984.jpg\n./datasets/2/1985.jpg\n./datasets/2/1986.jpg\n./datasets/2/1987.jpg\n./datasets/2/1988.jpg\n./datasets/2/1989.jpg\n./datasets/2/1990.jpg\n./datasets/2/1991.jpg\n./datasets/2/1992.jpg\n./datasets/2/1993.jpg\n./datasets/2/1994.jpg\n./datasets/2/1995.jpg\n./datasets/2/1996.jpg\n./datasets/2/1997.jpg\n./datasets/2/1998.jpg\n./datasets/2/1999.jpg\n./datasets/2/2000.jpg\n./datasets/2/2001.jpg\n./datasets/2/2002.jpg\n./datasets/2/2003.jpg\n./datasets/2/2004.jpg\n./datasets/2/2005.jpg\n./datasets/2/2006.jpg\n./datasets/2/2007.jpg\n./datasets/2/2008.jpg\n./datasets/2/2009.jpg\n./datasets/2/2010.jpg\n./datasets/2/2011.jpg\n./datasets/2/2012.jpg\n./datasets/2/2013.jpg\n./datasets/2/2014.jpg\n./datasets/2/2015.jpg\n./datasets/2/2016.jpg\n./datasets/2/2017.jpg\n./datasets/2/2018.jpg\n./datasets/2/2019.jpg\n./datasets/2/2020.jpg\n./datasets/2/2021.jpg\n./datasets/2/2022.jpg\n./datasets/2/2023.jpg\n./datasets/2/2024.jpg\n./datasets/2/2025.jpg\n./datasets/2/2026.jpg\n./datasets/2/2027.jpg\n./datasets/2/2028.jpg\n./datasets/2/2029.jpg\n./datasets/2/2030.jpg\n./datasets/2/2031.jpg\n./datasets/2/2032.jpg\n./datasets/2/2033.jpg\n./datasets/2/2034.jpg\n./datasets/2/2035.jpg\n./datasets/2/2036.jpg\n./datasets/2/2037.jpg\n./datasets/2/2038.jpg\n./datasets/2/2039.jpg\n./datasets/2/2040.jpg\n./datasets/2/2041.jpg\n./datasets/2/2042.jpg\n./datasets/2/2043.jpg\n./datasets/2/2044.jpg\n./datasets/2/2045.jpg\n./datasets/2/2046.jpg\n./datasets/2/2047.jpg\n./datasets/2/2048.jpg\n./datasets/2/2049.jpg\n./datasets/2/2050.jpg\n./datasets/2/2051.jpg\n./datasets/2/2052.jpg\n./datasets/2/2053.jpg\n./datasets/2/2054.jpg\n./datasets/2/2055.jpg\n./datasets/2/2056.jpg\n./datasets/2/2057.jpg\n./datasets/2/2058.jpg\n./datasets/2/2059.jpg\n./datasets/2/2060.jpg\n./datasets/2/2061.jpg\n./datasets/2/2062.jpg\n./datasets/2/2063.jpg\n./datasets/2/2064.jpg\n./datasets/2/2065.jpg\n./datasets/2/2066.jpg\n./datasets/2/2067.jpg\n./datasets/2/2068.jpg\n./datasets/2/2069.jpg\n./datasets/2/2070.jpg\n./datasets/2/2071.jpg\n./datasets/2/2072.jpg\n./datasets/2/2073.jpg\n./datasets/2/2074.jpg\n./datasets/2/2075.jpg\n./datasets/2/2076.jpg\n./datasets/2/2077.jpg\n./datasets/2/2078.jpg\n./datasets/2/2079.jpg\n./datasets/2/2080.jpg\n./datasets/2/2081.jpg\n./datasets/2/2082.jpg\n./datasets/2/2083.jpg\n./datasets/2/2084.jpg\n./datasets/2/2085.jpg\n./datasets/2/2086.jpg\n./datasets/2/2087.jpg\n./datasets/2/2088.jpg\n./datasets/2/2089.jpg\n./datasets/2/2090.jpg\n./datasets/2/2091.jpg\n./datasets/2/2092.jpg\n./datasets/2/2093.jpg\n./datasets/2/2094.jpg\n./datasets/2/2095.jpg\n./datasets/2/2096.jpg\n./datasets/2/2097.jpg\n./datasets/2/2098.jpg\n./datasets/2/2099.jpg\n./datasets/2/2100.jpg\n./datasets/2/2101.jpg\n./datasets/2/2102.jpg\n./datasets/2/2103.jpg\n./datasets/2/2104.jpg\n./datasets/2/2105.jpg\n./datasets/2/2106.jpg\n./datasets/2/2107.jpg\n./datasets/2/2108.jpg\n./datasets/2/2109.jpg\n./datasets/2/2110.jpg\n./datasets/2/2111.jpg\n./datasets/2/2112.jpg\n./datasets/2/2113.jpg\n./datasets/2/2114.jpg\n./datasets/2/2115.jpg\n./datasets/2/2116.jpg\n./datasets/2/2117.jpg\n./datasets/2/2118.jpg\n./datasets/2/2119.jpg\n./datasets/2/2120.jpg\n./datasets/2/2121.jpg\n./datasets/2/2122.jpg\n./datasets/2/2123.jpg\n./datasets/2/2124.jpg\n./datasets/2/2125.jpg\n./datasets/2/2126.jpg\n./datasets/2/2127.jpg\n./datasets/2/2128.jpg\n./datasets/2/2129.jpg\n./datasets/2/2130.jpg\n./datasets/2/2131.jpg\n./datasets/2/2132.jpg\n./datasets/2/2133.jpg\n./datasets/2/2134.jpg\n./datasets/2/2135.jpg\n./datasets/2/2136.jpg\n./datasets/2/2137.jpg\n./datasets/2/2138.jpg\n./datasets/2/2139.jpg\n./datasets/2/2140.jpg\n./datasets/2/2141.jpg\n./datasets/2/2142.jpg\n./datasets/2/2143.jpg\n./datasets/2/2144.jpg\n./datasets/2/2145.jpg\n./datasets/2/2146.jpg\n./datasets/2/2147.jpg\n./datasets/2/2148.jpg\n./datasets/2/2149.jpg\n./datasets/2/2150.jpg\n./datasets/2/2151.jpg\n./datasets/2/2152.jpg\n./datasets/2/2153.jpg\n./datasets/2/2154.jpg\n./datasets/2/2155.jpg\n./datasets/2/2156.jpg\n./datasets/2/2157.jpg\n./datasets/2/2158.jpg\n./datasets/2/2159.jpg\n./datasets/2/2160.jpg\n./datasets/2/2161.jpg\n./datasets/2/2162.jpg\n./datasets/2/2163.jpg\n./datasets/2/2164.jpg\n./datasets/2/2165.jpg\n./datasets/2/2166.jpg\n./datasets/2/2167.jpg\n./datasets/2/2168.jpg\n./datasets/2/2169.jpg\n./datasets/2/2170.jpg\n./datasets/2/2171.jpg\n./datasets/2/2172.jpg\n./datasets/2/2173.jpg\n./datasets/2/2174.jpg\n./datasets/2/2175.jpg\n./datasets/2/2176.jpg\n./datasets/2/2177.jpg\n./datasets/2/2178.jpg\n./datasets/2/2179.jpg\n./datasets/2/2180.jpg\n./datasets/2/2181.jpg\n./datasets/2/2182.jpg\n./datasets/2/2183.jpg\n./datasets/2/2184.jpg\n./datasets/2/2185.jpg\n./datasets/2/2186.jpg\n./datasets/2/2187.jpg\n./datasets/2/2188.jpg\n./datasets/2/2189.jpg\n./datasets/2/2190.jpg\n./datasets/2/2191.jpg\n./datasets/2/2192.jpg\n./datasets/2/2193.jpg\n./datasets/2/2194.jpg\n./datasets/2/2195.jpg\n./datasets/2/2196.jpg\n./datasets/2/2197.jpg\n./datasets/2/2198.jpg\n./datasets/2/2199.jpg\n./datasets/2/2200.jpg\n./datasets/2/2201.jpg\n./datasets/2/2202.jpg\n./datasets/2/2203.jpg\n./datasets/2/2204.jpg\n./datasets/2/2205.jpg\n./datasets/2/2206.jpg\n./datasets/2/2207.jpg\n./datasets/2/2208.jpg\n./datasets/2/2209.jpg\n./datasets/2/2210.jpg\n./datasets/2/2211.jpg\n./datasets/2/2212.jpg\n./datasets/2/2213.jpg\n./datasets/2/2214.jpg\n./datasets/2/2215.jpg\n./datasets/2/2216.jpg\n./datasets/2/2217.jpg\n./datasets/2/2218.jpg\n./datasets/2/2219.jpg\n./datasets/2/2220.jpg\n./datasets/2/2221.jpg\n./datasets/2/2222.jpg\n./datasets/2/2223.jpg\n./datasets/2/2224.jpg\n./datasets/2/2225.jpg\n./datasets/2/2226.jpg\n./datasets/2/2227.jpg\n./datasets/2/2228.jpg\n./datasets/2/2229.jpg\n./datasets/2/2230.jpg\n./datasets/2/2231.jpg\n./datasets/2/2232.jpg\n./datasets/2/2233.jpg\n./datasets/2/2234.jpg\n./datasets/2/2235.jpg\n./datasets/2/2236.jpg\n./datasets/2/2237.jpg\n./datasets/2/2238.jpg\n./datasets/2/2239.jpg\n./datasets/2/2240.jpg\n./datasets/2/2241.jpg\n./datasets/2/2242.jpg\n./datasets/2/2243.jpg\n./datasets/2/2244.jpg\n./datasets/2/2245.jpg\n./datasets/2/2246.jpg\n./datasets/2/2247.jpg\n./datasets/2/2248.jpg\n./datasets/2/2249.jpg\n./datasets/2/2250.jpg\n./datasets/2/2251.jpg\n./datasets/2/2252.jpg\n./datasets/2/2253.jpg\n./datasets/2/2254.jpg\n./datasets/2/2255.jpg\n./datasets/2/2256.jpg\n./datasets/2/2257.jpg\n./datasets/2/2258.jpg\n./datasets/2/2259.jpg\n./datasets/2/2260.jpg\n./datasets/2/2261.jpg\n./datasets/2/2262.jpg\n./datasets/2/2263.jpg\n./datasets/2/2264.jpg\n./datasets/2/2265.jpg\n./datasets/2/2266.jpg\n./datasets/2/2267.jpg\n./datasets/2/2268.jpg\n./datasets/2/2269.jpg\n./datasets/2/2270.jpg\n./datasets/2/2271.jpg\n./datasets/2/2272.jpg\n./datasets/2/2273.jpg\n./datasets/2/2274.jpg\n./datasets/2/2275.jpg\n./datasets/2/2276.jpg\n./datasets/2/2277.jpg\n./datasets/2/2278.jpg\n./datasets/2/2279.jpg\n./datasets/2/2280.jpg\n./datasets/2/2281.jpg\n./datasets/2/2282.jpg\n./datasets/2/2283.jpg\n./datasets/2/2284.jpg\n./datasets/2/2285.jpg\n./datasets/2/2286.jpg\n./datasets/2/2287.jpg\n./datasets/2/2288.jpg\n./datasets/2/2289.jpg\n./datasets/2/2290.jpg\n./datasets/2/2291.jpg\n./datasets/2/2292.jpg\n./datasets/2/2293.jpg\n./datasets/2/2294.jpg\n./datasets/2/2295.jpg\n./datasets/2/2296.jpg\n./datasets/2/2297.jpg\n./datasets/2/2298.jpg\n./datasets/2/2299.jpg\n./datasets/2/2300.jpg\n./datasets/2/2301.jpg\n./datasets/2/2302.jpg\n./datasets/2/2303.jpg\n./datasets/2/2304.jpg\n./datasets/2/2305.jpg\n./datasets/2/2306.jpg\n./datasets/2/2307.jpg\n./datasets/2/2308.jpg\n./datasets/2/2309.jpg\n./datasets/2/2310.jpg\n./datasets/2/2311.jpg\n./datasets/2/2312.jpg\n./datasets/2/2313.jpg\n./datasets/2/2314.jpg\n./datasets/2/2315.jpg\n./datasets/2/2316.jpg\n./datasets/2/2317.jpg\n./datasets/2/2318.jpg\n./datasets/2/2319.jpg\n./datasets/2/2320.jpg\n./datasets/2/2321.jpg\n./datasets/2/2322.jpg\n./datasets/2/2323.jpg\n./datasets/2/2324.jpg\n./datasets/2/2325.jpg\n./datasets/2/2326.jpg\n./datasets/2/2327.jpg\n./datasets/2/2328.jpg\n./datasets/2/2329.jpg\n./datasets/2/2330.jpg\n./datasets/2/2331.jpg\n./datasets/2/2332.jpg\n./datasets/2/2333.jpg\n./datasets/2/2334.jpg\n./datasets/2/2335.jpg\n./datasets/2/2336.jpg\n./datasets/2/2337.jpg\n./datasets/2/2338.jpg\n./datasets/2/2339.jpg\n./datasets/2/2340.jpg\n./datasets/2/2341.jpg\n./datasets/2/2342.jpg\n./datasets/2/2343.jpg\n./datasets/2/2344.jpg\n./datasets/2/2345.jpg\n./datasets/2/2346.jpg\n./datasets/2/2347.jpg\n./datasets/2/2348.jpg\n./datasets/2/2349.jpg\n./datasets/2/2350.jpg\n./datasets/2/2351.jpg\n./datasets/2/2352.jpg\n./datasets/2/2353.jpg\n./datasets/2/2354.jpg\n./datasets/2/2355.jpg\n./datasets/2/2356.jpg\n./datasets/2/2357.jpg\n./datasets/2/2358.jpg\n./datasets/2/2359.jpg\n./datasets/2/2360.jpg\n./datasets/2/2361.jpg\n./datasets/2/2362.jpg\n./datasets/2/2363.jpg\n./datasets/2/2364.jpg\n./datasets/2/2365.jpg\n./datasets/2/2366.jpg\n./datasets/2/2367.jpg\n./datasets/2/2368.jpg\n./datasets/2/2369.jpg\n./datasets/2/2370.jpg\n./datasets/2/2371.jpg\n./datasets/2/2372.jpg\n./datasets/2/2373.jpg\n./datasets/2/2374.jpg\n./datasets/2/2375.jpg\n./datasets/2/2376.jpg\n./datasets/2/2377.jpg\n./datasets/2/2378.jpg\n./datasets/2/2379.jpg\n./datasets/2/2380.jpg\n./datasets/2/2381.jpg\n./datasets/2/2382.jpg\n./datasets/2/2383.jpg\n./datasets/2/2384.jpg\n./datasets/2/2385.jpg\n./datasets/2/2386.jpg\n./datasets/2/2387.jpg\n./datasets/2/2388.jpg\n./datasets/2/2389.jpg\n./datasets/2/2390.jpg\n./datasets/2/2391.jpg\n./datasets/2/2392.jpg\n./datasets/2/2393.jpg\n./datasets/2/2394.jpg\n./datasets/2/2395.jpg\n./datasets/2/2396.jpg\n./datasets/2/2397.jpg\n./datasets/2/2398.jpg\n./datasets/2/2399.jpg\n./datasets/2/2400.jpg\n./datasets/2/2401.jpg\n./datasets/2/2402.jpg\n./datasets/2/2403.jpg\n./datasets/2/2404.jpg\n./datasets/2/2405.jpg\n./datasets/2/2406.jpg\n./datasets/2/2407.jpg\n./datasets/2/2408.jpg\n./datasets/2/2409.jpg\n./datasets/2/2410.jpg\n./datasets/2/2411.jpg\n./datasets/2/2412.jpg\n./datasets/2/2413.jpg\n./datasets/2/2414.jpg\n./datasets/2/2415.jpg\n./datasets/2/2416.jpg\n./datasets/2/2417.jpg\n./datasets/2/2418.jpg\n./datasets/2/2419.jpg\n./datasets/2/2420.jpg\n./datasets/2/2421.jpg\n./datasets/2/2422.jpg\n./datasets/2/2423.jpg\n./datasets/2/2424.jpg\n./datasets/2/2425.jpg\n./datasets/2/2426.jpg\n./datasets/2/2427.jpg\n./datasets/2/2428.jpg\n./datasets/2/2429.jpg\n./datasets/2/2430.jpg\n./datasets/2/2431.jpg\n./datasets/2/2432.jpg\n./datasets/2/2433.jpg\n./datasets/2/2434.jpg\n./datasets/2/2435.jpg\n./datasets/2/2436.jpg\n./datasets/2/2437.jpg\n./datasets/2/2438.jpg\n./datasets/2/2439.jpg\n./datasets/2/2440.jpg\n./datasets/2/2441.jpg\n./datasets/2/2442.jpg\n./datasets/2/2443.jpg\n./datasets/2/2444.jpg\n./datasets/2/2445.jpg\n./datasets/2/2446.jpg\n./datasets/2/2447.jpg\n./datasets/2/2448.jpg\n./datasets/2/2449.jpg\n./datasets/2/2450.jpg\n./datasets/2/2451.jpg\n./datasets/2/2452.jpg\n./datasets/2/2453.jpg\n./datasets/2/2454.jpg\n./datasets/2/2455.jpg\n./datasets/2/2456.jpg\n./datasets/2/2457.jpg\n./datasets/2/2458.jpg\n./datasets/2/2459.jpg\n./datasets/2/2460.jpg\n./datasets/2/2461.jpg\n./datasets/2/2462.jpg\n./datasets/2/2463.jpg\n./datasets/2/2464.jpg\n./datasets/2/2465.jpg\n./datasets/2/2466.jpg\n./datasets/2/2467.jpg\n./datasets/2/2468.jpg\n./datasets/2/2469.jpg\n./datasets/2/2470.jpg\n./datasets/2/2471.jpg\n./datasets/2/2472.jpg\n./datasets/2/2473.jpg\n./datasets/2/2474.jpg\n./datasets/2/2475.jpg\n./datasets/2/2476.jpg\n./datasets/2/2477.jpg\n./datasets/2/2478.jpg\n./datasets/2/2479.jpg\n./datasets/2/2480.jpg\n./datasets/2/2481.jpg\n./datasets/2/2482.jpg\n./datasets/2/2483.jpg\n./datasets/2/2484.jpg\n./datasets/2/2485.jpg\n./datasets/2/2486.jpg\n./datasets/2/2487.jpg\n./datasets/2/2488.jpg\n./datasets/2/2489.jpg\n./datasets/2/2490.jpg\n./datasets/2/2491.jpg\n./datasets/2/2492.jpg\n./datasets/2/2493.jpg\n./datasets/2/2494.jpg\n./datasets/2/2495.jpg\n./datasets/2/2496.jpg\n./datasets/2/2497.jpg\n./datasets/2/2498.jpg\n./datasets/2/2499.jpg\n./datasets/2/2500.jpg\n./datasets/2/2501.jpg\n./datasets/2/2502.jpg\n./datasets/2/2503.jpg\n./datasets/2/2504.jpg\n./datasets/2/2505.jpg\n./datasets/2/2506.jpg\n./datasets/2/2507.jpg\n./datasets/2/2508.jpg\n./datasets/2/2509.jpg\n./datasets/2/2510.jpg\n./datasets/2/2511.jpg\n./datasets/2/2512.jpg\n./datasets/2/2513.jpg\n./datasets/2/2514.jpg\n./datasets/2/2515.jpg\n./datasets/2/2516.jpg\n./datasets/2/2517.jpg\n./datasets/2/2518.jpg\n./datasets/2/2519.jpg\n./datasets/2/2520.jpg\n./datasets/2/2521.jpg\n./datasets/2/2522.jpg\n./datasets/2/2523.jpg\n./datasets/2/2524.jpg\n./datasets/2/2525.jpg\n./datasets/2/2526.jpg\n./datasets/2/2527.jpg\n./datasets/2/2528.jpg\n./datasets/2/2529.jpg\n./datasets/2/2530.jpg\n./datasets/2/2531.jpg\n./datasets/2/2532.jpg\n./datasets/2/2533.jpg\n./datasets/2/2534.jpg\n./datasets/2/2535.jpg\n./datasets/2/2536.jpg\n./datasets/2/2537.jpg\n./datasets/2/2538.jpg\n./datasets/2/2539.jpg\n./datasets/2/2540.jpg\n./datasets/2/2541.jpg\n./datasets/2/2542.jpg\n./datasets/2/2543.jpg\n./datasets/2/2544.jpg\n./datasets/2/2545.jpg\n./datasets/2/2546.jpg\n./datasets/2/2547.jpg\n./datasets/2/2548.jpg\n./datasets/2/2549.jpg\n./datasets/2/2550.jpg\n./datasets/2/2551.jpg\n./datasets/2/2552.jpg\n./datasets/2/2553.jpg\n./datasets/2/2554.jpg\n./datasets/2/2555.jpg\n./datasets/2/2556.jpg\n./datasets/2/2557.jpg\n./datasets/2/2558.jpg\n./datasets/2/2559.jpg\n./datasets/2/2560.jpg\n./datasets/2/2561.jpg\n./datasets/2/2562.jpg\n./datasets/2/2563.jpg\n./datasets/2/2564.jpg\n./datasets/2/2565.jpg\n./datasets/2/2566.jpg\n./datasets/2/2567.jpg\n./datasets/2/2568.jpg\n./datasets/2/2569.jpg\n./datasets/2/2570.jpg\n./datasets/2/2571.jpg\n./datasets/2/2572.jpg\n./datasets/2/2573.jpg\n./datasets/2/2574.jpg\n./datasets/2/2575.jpg\n./datasets/2/2576.jpg\n./datasets/2/2577.jpg\n./datasets/2/2578.jpg\n./datasets/2/2579.jpg\n./datasets/2/2580.jpg\n./datasets/2/2581.jpg\n./datasets/2/2582.jpg\n./datasets/2/2583.jpg\n./datasets/2/2584.jpg\n./datasets/2/2585.jpg\n./datasets/2/2586.jpg\n./datasets/2/2587.jpg\n./datasets/2/2588.jpg\n./datasets/2/2589.jpg\n./datasets/2/2590.jpg\n./datasets/2/2591.jpg\n./datasets/2/2592.jpg\n./datasets/2/2593.jpg\n./datasets/2/2594.jpg\n./datasets/2/2595.jpg\n./datasets/2/2596.jpg\n./datasets/2/2597.jpg\n./datasets/2/2598.jpg\n./datasets/2/2599.jpg\n./datasets/2/2600.jpg\n./datasets/2/2601.jpg\n./datasets/2/2602.jpg\n./datasets/2/2603.jpg\n./datasets/2/2604.jpg\n./datasets/2/2605.jpg\n./datasets/2/2606.jpg\n./datasets/2/2607.jpg\n./datasets/2/2608.jpg\n./datasets/2/2609.jpg\n./datasets/2/2610.jpg\n./datasets/2/2611.jpg\n./datasets/2/2612.jpg\n./datasets/2/2613.jpg\n./datasets/2/2614.jpg\n./datasets/2/2615.jpg\n./datasets/2/2616.jpg\n./datasets/2/2617.jpg\n./datasets/2/2618.jpg\n./datasets/2/2619.jpg\n./datasets/2/2620.jpg\n./datasets/2/2621.jpg\n./datasets/2/2622.jpg\n./datasets/2/2623.jpg\n./datasets/2/2624.jpg\n./datasets/2/2625.jpg\n./datasets/2/2626.jpg\n./datasets/2/2627.jpg\n./datasets/2/2628.jpg\n./datasets/2/2629.jpg\n./datasets/2/2630.jpg\n./datasets/2/2631.jpg\n./datasets/2/2632.jpg\n./datasets/2/2633.jpg\n./datasets/2/2634.jpg\n./datasets/2/2635.jpg\n./datasets/2/2636.jpg\n./datasets/2/2637.jpg\n./datasets/2/2638.jpg\n./datasets/2/2639.jpg\n./datasets/2/2640.jpg\n./datasets/2/2641.jpg\n./datasets/2/2642.jpg\n./datasets/2/2643.jpg\n./datasets/2/2644.jpg\n./datasets/2/2645.jpg\n./datasets/2/2646.jpg\n./datasets/2/2647.jpg\n./datasets/2/2648.jpg\n./datasets/2/2649.jpg\n./datasets/2/2650.jpg\n./datasets/2/2651.jpg\n./datasets/2/2652.jpg\n./datasets/2/2653.jpg\n./datasets/2/2654.jpg\n./datasets/2/2655.jpg\n./datasets/2/2656.jpg\n./datasets/2/2657.jpg\n./datasets/2/2658.jpg\n./datasets/2/2659.jpg\n./datasets/2/2660.jpg\n./datasets/2/2661.jpg\n./datasets/2/2662.jpg\n./datasets/2/2663.jpg\n./datasets/2/2664.jpg\n./datasets/2/2665.jpg\n./datasets/2/2666.jpg\n./datasets/2/2667.jpg\n./datasets/2/2668.jpg\n./datasets/2/2669.jpg\n./datasets/2/2670.jpg\n./datasets/2/2671.jpg\n./datasets/2/2672.jpg\n./datasets/2/2673.jpg\n./datasets/2/2674.jpg\n./datasets/2/2675.jpg\n./datasets/2/2676.jpg\n./datasets/2/2677.jpg\n./datasets/2/2678.jpg\n./datasets/2/2679.jpg\n./datasets/2/2680.jpg\n./datasets/2/2681.jpg\n./datasets/2/2682.jpg\n./datasets/2/2683.jpg\n./datasets/2/2684.jpg\n./datasets/2/2685.jpg\n./datasets/2/2686.jpg\n./datasets/2/2687.jpg\n./datasets/2/2688.jpg\n./datasets/2/2689.jpg\n./datasets/2/2690.jpg\n./datasets/2/2691.jpg\n./datasets/2/2692.jpg\n./datasets/2/2693.jpg\n./datasets/2/2694.jpg\n./datasets/2/2695.jpg\n./datasets/2/2696.jpg\n./datasets/2/2697.jpg\n./datasets/2/2698.jpg\n./datasets/2/2699.jpg\n./datasets/2/2700.jpg\n./datasets/2/2701.jpg\n./datasets/2/2702.jpg\n./datasets/2/2703.jpg\n./datasets/2/2704.jpg\n"
    }
   ],
   "source": [
    "#Resize image\n",
    "import os\n",
    "from PIL import Image\n",
    "import numpy as np\n",
    "import imageio\n",
    "count = 1\n",
    "for path in sorted(os.listdir('./datasets/เพราะเรา(ยัง)คู่กัน')):\n",
    "    img = Image.open('./datasets/เพราะเรา(ยัง)คู่กัน/' + path)\n",
    "    img = img.resize((224,224), Image.NEAREST)\n",
    "    img = np.array(img)\n",
    "    imageio.imwrite('./datasets/2/' + str(count) + '.jpg', img)\n",
    "    print('./datasets/2/' + str(count) + '.jpg')\n",
    "    count = count + 1"
   ]
  },
  {
   "cell_type": "code",
   "execution_count": null,
   "metadata": {
    "tags": []
   },
   "outputs": [],
   "source": [
    "import warnings\n",
    "warnings.filterwarnings('ignore')\n",
    "import tensorflow as tf\n",
    "import tensorflow.keras\n",
    "from tensorflow.keras.preprocessing.image import ImageDataGenerator\n",
    "from tensorflow.keras.callbacks import ReduceLROnPlateau, CSVLogger, EarlyStopping\n",
    "from tensorflow.keras.models import Model\n",
    "from tensorflow.keras.layers import GlobalAveragePooling2D, Dense\n",
    "from tensorflow.keras.applications.resnet50 import ResNet50\n",
    "\n",
    "x_train = []\n",
    "y_train = []\n",
    "for path in os.listdir('./datasets/1/'):\n",
    "    img = Image.open('./datasets/1/'+path)\n",
    "    x_train.append(np.array(img))\n",
    "    y_train.append(1)\n",
    "    img.close()\n"
   ]
  },
  {
   "cell_type": "code",
   "execution_count": null,
   "metadata": {},
   "outputs": [],
   "source": [
    "x_train = np.array(x_train)\n",
    "x_train = x_train.astype(np.float32)\n",
    "x_train = x_train / 255.0\n",
    "y_train = np.array(y_train)"
   ]
  },
  {
   "cell_type": "code",
   "execution_count": null,
   "metadata": {
    "tags": []
   },
   "outputs": [],
   "source": [
    "from tensorflow.keras.optimizers import SGD\n",
    "strategy = tf.distribute.MirroredStrategy()\n",
    "print('Number of devices: {}'.format(strategy.num_replicas_in_sync))\n",
    "BATCH_SIZE_PER_REPLICA = 64\n",
    "BATCH_SIZE = BATCH_SIZE_PER_REPLICA * strategy.num_replicas_in_sync"
   ]
  },
  {
   "cell_type": "code",
   "execution_count": null,
   "metadata": {
    "tags": []
   },
   "outputs": [],
   "source": [
    "step_size = 19647 // 64\n",
    "with strategy.scope():\n",
    "    base_model = ResNet50(include_top=False)\n",
    "    x = base_model.output\n",
    "    x = GlobalAveragePooling2D()(x)\n",
    "    x = Dense(256, activation='relu')(x)\n",
    "    x = Dense(256, activation='relu')(x)\n",
    "    prediction = Dense(1, activation='sigmoid')(x)\n",
    "    model = Model(inputs=base_model.input, outputs=prediction)\n",
    "    optimize = SGD(learning_rate=0.0001, momentum=0.9)\n",
    "    model.compile(loss='binary_crossentropy', optimizer=optimize, metrics=['accuracy'])"
   ]
  },
  {
   "cell_type": "code",
   "execution_count": null,
   "metadata": {},
   "outputs": [],
   "source": [
    "train_data = tf.data.Dataset.from_tensor_slices((x_train, y_train))\n",
    "train_data = train_data.cache().shuffle(1000).batch(BATCH_SIZE)"
   ]
  },
  {
   "cell_type": "code",
   "execution_count": null,
   "metadata": {
    "tags": []
   },
   "outputs": [],
   "source": [
    "model.fit(train_data, epochs=10)\n",
    "model.save('weights.h5')"
   ]
  },
  {
   "cell_type": "code",
   "execution_count": null,
   "metadata": {
    "tags": []
   },
   "outputs": [],
   "source": [
    "import imutils\n",
    "import time\n",
    "import numpy as np\n",
    "from PIL import Image\n",
    "import cv2\n",
    "import os\n",
    "import imageio\n",
    "from keras.models import load_model\n",
    "capture = cv2.VideoCapture('datasets/คนนั้นต้องเป็นเธอ.mp4')\n",
    "success = 1\n",
    "\n",
    "model = load_model('datasets/weights.h5')\n",
    "while (True):\n",
    "  ret, frame = capture.read()\n",
    "  if (type(frame) != 'None'):\n",
    "    frame = Image.fromarray(frame)\n",
    "    frame = frame.resize((224,224), Image.NEAREST)\n",
    "    frame = np.array(frame)\n",
    "    frame = frame.astype(np.float32)\n",
    "    frame /= 255.0\n",
    "    pred_frame = np.expand_dims(frame, axis=0)\n",
    "    label = model.predict(pred_frame)\n",
    "    print(label[0])\n",
    "    label = np.rint(label)\n",
    "    \n",
    "    predict = \"\"\n",
    "    if (label[0] == 1):\n",
    "        predict = \"I'm tee. Me too\"\n",
    "    else:\n",
    "        predict = \"Still 2gether\"\n",
    "\n",
    "    font = cv2.FONT_HERSHEY_SIMPLEX \n",
    "\n",
    "    # # inserting text on video \n",
    "    cv2.putText(frame,  predict,  (50, 50),  font, 1,  (0, 0, 255), 1, cv2.LINE_4) \n",
    "  \n",
    "    # Display the resulting frame \n",
    "    cv2.imshow('video', frame) \n",
    "\n",
    "    if cv2.waitKey(1) & 0xFF == ord('q'): \n",
    "        cv2.destroyAllWindows() \n",
    "        break\n",
    "# release the cap object \n",
    "capture.release() \n",
    "# close all windows \n",
    "cv2.destroyAllWindows() \n",
    "\n"
   ]
  },
  {
   "cell_type": "code",
   "execution_count": null,
   "metadata": {},
   "outputs": [],
   "source": []
  }
 ]
}